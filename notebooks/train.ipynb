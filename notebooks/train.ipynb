{
 "cells": [
  {
   "cell_type": "code",
   "execution_count": null,
   "metadata": {
    "collapsed": false,
    "deletable": true,
    "editable": true
   },
   "outputs": [],
   "source": [
    "import torch\n",
    "import torch.nn as nn\n",
    "import torch.optim as optim\n",
    "from torch.autograd import Variable\n",
    "from torch.utils.data import DataLoader\n",
    "\n",
    "from torchvision import transforms\n",
    "\n",
    "from eurus.track.pytorch.train import ForwardTrackingModel, Alov300, Uav123, Vot2016"
   ]
  },
  {
   "cell_type": "markdown",
   "metadata": {
    "deletable": true,
    "editable": true
   },
   "source": [
    "## Data"
   ]
  },
  {
   "cell_type": "markdown",
   "metadata": {
    "deletable": true,
    "editable": true
   },
   "source": [
    "Create a dataset instance:"
   ]
  },
  {
   "cell_type": "code",
   "execution_count": null,
   "metadata": {
    "collapsed": false,
    "deletable": true,
    "editable": true
   },
   "outputs": [],
   "source": [
    "dataset = Vot2016(\n",
    "    '/data1/joan/eurus/data/vot2016/', \n",
    "    transform=transforms.ToTensor(),\n",
    "    sequence_length=2\n",
    ")"
   ]
  },
  {
   "cell_type": "markdown",
   "metadata": {
    "deletable": true,
    "editable": true
   },
   "source": [
    "Visualize dataset:"
   ]
  },
  {
   "cell_type": "code",
   "execution_count": null,
   "metadata": {
    "collapsed": false,
    "deletable": true,
    "editable": true
   },
   "outputs": [],
   "source": [
    "dataset.view_original()"
   ]
  },
  {
   "cell_type": "markdown",
   "metadata": {
    "deletable": true,
    "editable": true
   },
   "source": [
    "Dataset length:"
   ]
  },
  {
   "cell_type": "code",
   "execution_count": null,
   "metadata": {
    "collapsed": false,
    "deletable": true,
    "editable": true
   },
   "outputs": [],
   "source": [
    "print(dataset)"
   ]
  },
  {
   "cell_type": "markdown",
   "metadata": {
    "deletable": true,
    "editable": true
   },
   "source": [
    "View sequence length histogram:"
   ]
  },
  {
   "cell_type": "code",
   "execution_count": null,
   "metadata": {
    "collapsed": false,
    "deletable": true,
    "editable": true
   },
   "outputs": [],
   "source": [
    "dataset.view_sequence_length_histogram()"
   ]
  },
  {
   "cell_type": "markdown",
   "metadata": {
    "deletable": true,
    "editable": true
   },
   "source": [
    "Create a `Dataloader` for the dataset:"
   ]
  },
  {
   "cell_type": "code",
   "execution_count": null,
   "metadata": {
    "collapsed": true,
    "deletable": true,
    "editable": true
   },
   "outputs": [],
   "source": [
    "batch_size = 8\n",
    "\n",
    "data_loader = DataLoader(dataset, batch_size=batch_size, shuffle=False, num_workers=4, pin_memory=True)"
   ]
  },
  {
   "cell_type": "markdown",
   "metadata": {
    "deletable": true,
    "editable": true
   },
   "source": [
    "## Train"
   ]
  },
  {
   "cell_type": "markdown",
   "metadata": {
    "deletable": true,
    "editable": true
   },
   "source": [
    "Create an instance of the model:"
   ]
  },
  {
   "cell_type": "code",
   "execution_count": null,
   "metadata": {
    "collapsed": false,
    "deletable": true,
    "editable": true
   },
   "outputs": [],
   "source": [
    "model = ForwardTrackingModel()"
   ]
  },
  {
   "cell_type": "markdown",
   "metadata": {
    "deletable": true,
    "editable": true
   },
   "source": [
    "Move it to the gpu:"
   ]
  },
  {
   "cell_type": "code",
   "execution_count": null,
   "metadata": {
    "collapsed": false,
    "deletable": true,
    "editable": true
   },
   "outputs": [],
   "source": [
    "model = model.cuda()"
   ]
  },
  {
   "cell_type": "markdown",
   "metadata": {
    "deletable": true,
    "editable": true
   },
   "source": [
    "Define loss functions:"
   ]
  },
  {
   "cell_type": "code",
   "execution_count": null,
   "metadata": {
    "collapsed": true,
    "deletable": true,
    "editable": true
   },
   "outputs": [],
   "source": [
    "criterion = nn.MSELoss(size_average=True)\n",
    "criterion = criterion.cuda()"
   ]
  },
  {
   "cell_type": "markdown",
   "metadata": {
    "deletable": true,
    "editable": true
   },
   "source": [
    "Define optimizer:"
   ]
  },
  {
   "cell_type": "code",
   "execution_count": null,
   "metadata": {
    "collapsed": false,
    "deletable": true,
    "editable": true
   },
   "outputs": [],
   "source": [
    "optimizer = optim.SGD(model.parameters(), lr=1e-6)"
   ]
  },
  {
   "cell_type": "code",
   "execution_count": null,
   "metadata": {
    "collapsed": false,
    "deletable": true,
    "editable": true
   },
   "outputs": [],
   "source": [
    "len(data_loader)"
   ]
  },
  {
   "cell_type": "markdown",
   "metadata": {
    "deletable": true,
    "editable": true
   },
   "source": [
    "Define the training loop:"
   ]
  },
  {
   "cell_type": "code",
   "execution_count": null,
   "metadata": {
    "collapsed": false,
    "deletable": true,
    "editable": true
   },
   "outputs": [],
   "source": [
    "def train(epoch):\n",
    "    \n",
    "    model.train()\n",
    "    \n",
    "    for i, data_sequence in enumerate(data_loader):\n",
    "        \n",
    "#         optimizer.zero_grad()\n",
    "        \n",
    "#         loss1 = 0\n",
    "#         loss2 = 0\n",
    "#         loss = 0\n",
    "        \n",
    "#         bz = data_sequence[0][0].size()[0]\n",
    "        \n",
    "#         s1 = (Variable(torch.zeros([bz, 256]).cuda()),\n",
    "#               Variable(torch.zeros([bz, 256]).cuda()))\n",
    "#         s2 = (Variable(torch.zeros([bz, 256]).cuda()),\n",
    "#               Variable(torch.zeros([bz, 256]).cuda()))\n",
    "        \n",
    "        for j, data in enumerate(data_sequence):\n",
    "            \n",
    "            optimizer.zero_grad()\n",
    "            \n",
    "            x1, x2, _, search_box, context_box, t2 = data\n",
    "    \n",
    "            x1 = Variable(x1.cuda())\n",
    "            x2 = Variable(x2.cuda())\n",
    "            \n",
    "#             y1, y2, s1, s2 = model(x1, x2, s1, s2)\n",
    "            y2 = model(x1, x2)\n",
    "            \n",
    "#             t1 = search_box - context_box\n",
    "#             t1 = Variable(t1.cuda())\n",
    "            t2 = Variable(t2.cuda())\n",
    "\n",
    "#             l1 = torch.sqrt(criterion(y1[:, :2], t1[:, :2])) + torch.sqrt(criterion(y1[:, 2:], t1[:, 2:]))\n",
    "            l2 = criterion(y2, t2.unsqueeze(1)) / len(data_loader)\n",
    "            \n",
    "#             loss1 += l1\n",
    "#             loss2 += l2\n",
    "#             loss += l1 + l2\n",
    "\n",
    "            loss2 = l2\n",
    "            \n",
    "            loss2.backward()\n",
    "            optimizer.step()\n",
    "        \n",
    "            if j % 1 == 0:\n",
    "    #             print('Train Epoch: {0:03d} [{1:06d}/{2:05d} ({3:2.0f}%)]\\t'\n",
    "    #                   'Loss: {4:4.4f} [{5:4.4f} + {6:4.4f}]'.format(\n",
    "    #                       epoch,\n",
    "    #                       i * x1.size()[0],\n",
    "    #                       len(data_loader.dataset),\n",
    "    #                       100. * i / len(data_loader),\n",
    "    #                       loss.data[0],\n",
    "    #                       loss1.data[0],\n",
    "    #                       loss2.data[0])\n",
    "    #                  )\n",
    "                 print('Train Epoch: {0:03d} [{1:06d}/{2:05d} ({3:2.0f}%)]\\t'\n",
    "                      'Loss: {4:4.4f}'.format(\n",
    "                          epoch,\n",
    "                          i * x1.size()[0],\n",
    "                          len(data_loader.dataset),\n",
    "                          100. * i / len(data_loader),\n",
    "                          loss2.data[0])\n",
    "                     )\n",
    "            "
   ]
  },
  {
   "cell_type": "code",
   "execution_count": null,
   "metadata": {
    "collapsed": false,
    "deletable": true,
    "editable": true
   },
   "outputs": [],
   "source": [
    "for epoch in range(0, 100000):\n",
    "    train(epoch)\n",
    "    if epoch % 25 == 0:\n",
    "        torch.save(model.state_dict(), \"/data1/joan/eurus/model.pth\")"
   ]
  },
  {
   "cell_type": "code",
   "execution_count": null,
   "metadata": {
    "collapsed": true,
    "deletable": true,
    "editable": true
   },
   "outputs": [],
   "source": [
    "state_dict = torch.load(\"/data1/joan/eurus/model.pth\")\n",
    "model.load_state_dict(state_dict)"
   ]
  }
 ],
 "metadata": {
  "kernelspec": {
   "display_name": "Python 3",
   "language": "python",
   "name": "python3"
  },
  "language_info": {
   "codemirror_mode": {
    "name": "ipython",
    "version": 3
   },
   "file_extension": ".py",
   "mimetype": "text/x-python",
   "name": "python",
   "nbconvert_exporter": "python",
   "pygments_lexer": "ipython3",
   "version": "3.6.0"
  }
 },
 "nbformat": 4,
 "nbformat_minor": 2
}
