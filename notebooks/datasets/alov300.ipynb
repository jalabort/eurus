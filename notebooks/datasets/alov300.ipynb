{
 "cells": [
  {
   "cell_type": "code",
   "execution_count": null,
   "metadata": {
    "collapsed": true,
    "deletable": true,
    "editable": true
   },
   "outputs": [],
   "source": [
    "%matplotlib inline\n",
    "\n",
    "import matplotlib.pyplot as plt\n",
    "from matplotlib.patches import Rectangle\n",
    "\n",
    "import os\n",
    "import csv\n",
    "import numpy as np\n",
    "\n",
    "from PIL import Image"
   ]
  },
  {
   "cell_type": "markdown",
   "metadata": {
    "deletable": true,
    "editable": true
   },
   "source": [
    "## Discover dataset structure"
   ]
  },
  {
   "cell_type": "markdown",
   "metadata": {
    "deletable": true,
    "editable": true
   },
   "source": [
    "Create image and annotation lists:"
   ]
  },
  {
   "cell_type": "code",
   "execution_count": null,
   "metadata": {
    "collapsed": false,
    "deletable": true,
    "editable": true
   },
   "outputs": [],
   "source": [
    "root = '/data1/joan/eurus/data/alov300/'\n",
    "\n",
    "img_path = os.path.join(root, 'images')\n",
    "ann_path = os.path.join(root, 'annotations')\n",
    "\n",
    "print('Image path: ', img_path)\n",
    "print('Annotations path: ', ann_path)"
   ]
  },
  {
   "cell_type": "code",
   "execution_count": null,
   "metadata": {
    "collapsed": false,
    "deletable": true,
    "editable": true
   },
   "outputs": [],
   "source": [
    "sequences = next(os.walk(img_path))[1]\n",
    "\n",
    "print('Sequences: ')\n",
    "print(sequences)"
   ]
  },
  {
   "cell_type": "code",
   "execution_count": null,
   "metadata": {
    "collapsed": false,
    "deletable": true,
    "editable": true
   },
   "outputs": [],
   "source": [
    "ann_list = []\n",
    "img_list = []\n",
    "\n",
    "for seq in sequences:\n",
    "    ann_path2, _, files = next(os.walk(os.path.join(ann_path, seq)))\n",
    "    files = sorted(files)\n",
    "    ann_list2 = []\n",
    "    ann_indices = []\n",
    "    for file in files:\n",
    "        with open(os.path.join(ann_path2, file), \"r\") as f:\n",
    "            truths = list(csv.reader(f, delimiter=' '))\n",
    "        ann_list3 = []\n",
    "        indices = []\n",
    "        for t in truths:\n",
    "            xs = np.array(t[1::2]).astype(np.float32)\n",
    "            ys = np.array(t[2::2]).astype(np.float32)\n",
    "            tl = np.array([np.min(xs), np.min(ys)])\n",
    "            br = np.array([np.max(xs), np.max(ys)])\n",
    "            sz = br - tl\n",
    "            ann_list3.append(np.concatenate([tl, sz]))\n",
    "            indices.append(int(t[0]) - 1)\n",
    "        ann_list2.append(ann_list3)\n",
    "        ann_indices.append(indices)\n",
    "    ann_list.append(ann_list2)\n",
    "    \n",
    "    \n",
    "    img_path2, dirs, _ = next(os.walk(os.path.join(img_path, seq)))\n",
    "    dirs = sorted(dirs)\n",
    "    \n",
    "    img_list2 = []\n",
    "    for d, indices in zip(dirs, ann_indices):\n",
    "        img_path3, _, files = next(os.walk(os.path.join(img_path2, d)))\n",
    "        files = sorted(files)\n",
    "        files = [files[i] for i in indices]\n",
    "        img_list3 = []\n",
    "        for file in files:\n",
    "            img_list3.append(os.path.join(img_path3, file))    \n",
    "        img_list2.append(img_list3)\n",
    "    img_list.append(img_list2) "
   ]
  },
  {
   "cell_type": "markdown",
   "metadata": {
    "deletable": true,
    "editable": true
   },
   "source": [
    "Make sure every image is associated to its corresponding annotations:"
   ]
  },
  {
   "cell_type": "code",
   "execution_count": null,
   "metadata": {
    "collapsed": false,
    "deletable": true,
    "editable": true
   },
   "outputs": [],
   "source": [
    "n_ann = 0\n",
    "\n",
    "print('Annotations tree: ')\n",
    "print('  - ' + str(len(ann_list)))\n",
    "for a in ann_list:\n",
    "    print('    - '+ str(len(a)))\n",
    "    for b in a:\n",
    "        print('      - '+ str(len(b)))\n",
    "        n_ann += len(b)"
   ]
  },
  {
   "cell_type": "code",
   "execution_count": null,
   "metadata": {
    "collapsed": false,
    "deletable": true,
    "editable": true
   },
   "outputs": [],
   "source": [
    "print('Number of annotations: ', n_ann)"
   ]
  },
  {
   "cell_type": "code",
   "execution_count": null,
   "metadata": {
    "collapsed": false,
    "deletable": true,
    "editable": true
   },
   "outputs": [],
   "source": [
    "n_img = 0\n",
    "\n",
    "print('Images tree: ')\n",
    "print('  - ' + str(len(img_list)))\n",
    "for a in img_list:\n",
    "    print('    - '+ str(len(a)))\n",
    "    for b in a:\n",
    "        print('      - '+ str(len(b)))\n",
    "        n_img += len(b)"
   ]
  },
  {
   "cell_type": "code",
   "execution_count": null,
   "metadata": {
    "collapsed": false,
    "deletable": true,
    "editable": true
   },
   "outputs": [],
   "source": [
    "print('Number of images: ', n_img)"
   ]
  },
  {
   "cell_type": "markdown",
   "metadata": {
    "deletable": true,
    "editable": true
   },
   "source": [
    "## Visualize"
   ]
  },
  {
   "cell_type": "markdown",
   "metadata": {
    "deletable": true,
    "editable": true
   },
   "source": [
    "Visualize a random image with its annotations:"
   ]
  },
  {
   "cell_type": "code",
   "execution_count": null,
   "metadata": {
    "collapsed": false,
    "deletable": true,
    "editable": true
   },
   "outputs": [],
   "source": [
    "ind = np.random.randint(len(img_list))\n",
    "ind2 = np.random.randint(len(img_list[ind]))\n",
    "ind3 = np.random.randint(len(img_list[ind][ind2]))\n",
    "\n",
    "img_path = img_list[ind][ind2][ind3]\n",
    "img = Image.open(img_path)\n",
    "\n",
    "ann = ann_list[ind][ind2][ind3]\n",
    "\n",
    "\n",
    "fig = plt.figure(figsize=(32, 24))\n",
    "ax = fig.add_subplot(111, aspect='equal')\n",
    "ax.set_axis_off()\n",
    "ax.imshow(img)\n",
    "\n",
    "ax.add_patch(Rectangle((ann[0], ann[1]), ann[2], ann[3], alpha=.5))"
   ]
  },
  {
   "cell_type": "markdown",
   "metadata": {
    "deletable": true,
    "editable": true
   },
   "source": [
    "## Dataset class"
   ]
  },
  {
   "cell_type": "markdown",
   "metadata": {
    "deletable": true,
    "editable": true
   },
   "source": [
    "Prototype eurus' `Alov300` dataset class:"
   ]
  },
  {
   "cell_type": "code",
   "execution_count": null,
   "metadata": {
    "collapsed": false,
    "deletable": true,
    "editable": true
   },
   "outputs": [],
   "source": [
    "%matplotlib inline\n",
    "\n",
    "import matplotlib.pyplot as plt\n",
    "from matplotlib.patches import Rectangle\n",
    "\n",
    "import os\n",
    "import sys\n",
    "import csv\n",
    "import numbers\n",
    "\n",
    "import numpy as np\n",
    "\n",
    "from PIL import Image\n",
    "from torch.utils.data import Dataset\n",
    "\n",
    "from eurus.track.pytorch.model.dataset.utils import display_image\n",
    "\n",
    "from ipywidgets import interact\n",
    "import ipywidgets as widgets"
   ]
  },
  {
   "cell_type": "code",
   "execution_count": null,
   "metadata": {
    "collapsed": false,
    "deletable": true,
    "editable": true
   },
   "outputs": [],
   "source": [
    "class Alov300(Dataset):\n",
    "    r\"\"\"\n",
    "    Class for the Amsterdam Library of Ordinary Videos (ALOV) 300 dataset.\n",
    "\n",
    "    Parameters\n",
    "    ----------\n",
    "    root : str\n",
    "        The root path to the dataset.\n",
    "    transform :\n",
    "\n",
    "    target_transform :\n",
    "\n",
    "    context_factor : float, optional\n",
    "\n",
    "    search_factor : float, optional\n",
    "\n",
    "    context_size : int, optional\n",
    "\n",
    "    search_size : int, optional\n",
    "\n",
    "\n",
    "    References\n",
    "    ----------\n",
    "    A. W. Smeulders, et al. Visual tracking: An experimental survey.\n",
    "    TPAMI 2013.\n",
    "    \"\"\"\n",
    "    def __init__(self, root, transform=None, target_transform=None,\n",
    "                 context_factor=3.0, search_factor=2.0,\n",
    "                 context_size=128, search_size=256):\n",
    "\n",
    "        self.root = root\n",
    "        self.transform = transform\n",
    "        self.target_transform = target_transform\n",
    "        self.context_factor = context_factor\n",
    "        self.search_factor = search_factor\n",
    "\n",
    "        if isinstance(context_size, numbers.Number):\n",
    "            self.context_size = np.array([context_size, context_size]).astype(\n",
    "                np.int32)\n",
    "        elif isinstance(context_size, tuple):\n",
    "            self.context_size = np.array(context_size)\n",
    "        else:\n",
    "            raise ValueError('`context_size` must be `int` or `(int, int)`.')\n",
    "\n",
    "        if isinstance(search_size, numbers.Number):\n",
    "            self.search_size = np.array([search_size, search_size]).astype(\n",
    "                np.int32)\n",
    "        elif isinstance(search_size, tuple):\n",
    "            self.search_size = np.array(search_size).astype(np.int32)\n",
    "        else:\n",
    "            raise ValueError('`context_size` must be `int` or `(int, int)`.')\n",
    "\n",
    "        img_path = os.path.join(root, 'images')\n",
    "        ann_path = os.path.join(root, 'annotations')\n",
    "\n",
    "        sequences = next(os.walk(img_path))[1]\n",
    "\n",
    "        self.ann_list = []\n",
    "        self.img_list = []\n",
    "\n",
    "        for seq in sequences:\n",
    "            ann_path2, _, files = next(os.walk(os.path.join(ann_path, seq)))\n",
    "            files = sorted(files)\n",
    "            ann_list2 = []\n",
    "            ann_indices = []\n",
    "            for file in files:\n",
    "                with open(os.path.join(ann_path2, file), \"r\") as f:\n",
    "                    truths = list(csv.reader(f, delimiter=' '))\n",
    "                ann_list3 = []\n",
    "                indices = []\n",
    "                for t in truths:\n",
    "                    xs = np.array(t[1::2]).astype(np.float32)\n",
    "                    ys = np.array(t[2::2]).astype(np.float32)\n",
    "                    tl = np.array([np.min(xs), np.min(ys)])\n",
    "                    br = np.array([np.max(xs), np.max(ys)])\n",
    "                    sz = br - tl\n",
    "                    ann_list3.append(np.concatenate([tl, sz]))\n",
    "                    indices.append(int(t[0]) - 1)\n",
    "                ann_list2.append(ann_list3)\n",
    "                ann_indices.append(indices)\n",
    "            self.ann_list.append(ann_list2)\n",
    "\n",
    "            img_path2, dirs, _ = next(os.walk(os.path.join(img_path, seq)))\n",
    "            dirs = sorted(dirs)\n",
    "            img_list2 = []\n",
    "            for d, indices in zip(dirs, ann_indices):\n",
    "                img_path3, _, files = next(os.walk(os.path.join(img_path2, d)))\n",
    "                files = sorted(files)\n",
    "                files = [files[i] for i in indices]\n",
    "                img_list3 = []\n",
    "                for file in files:\n",
    "                    img_list3.append(os.path.join(img_path3, file))\n",
    "                img_list2.append(img_list3)\n",
    "            self.img_list.append(img_list2)\n",
    "\n",
    "        assert len(self.img_list) == len(self.ann_list), \\\n",
    "            'The number of image ({}) and ann ({}) groups should be ' \\\n",
    "            'the same.'.format(len(self.img_list), len(self.ann_list))\n",
    "        for i, (img_list2, ann_list2) in enumerate(zip(self.img_list,\n",
    "                                                       self.ann_list)):\n",
    "            assert len(img_list2) == len(ann_list2), \\\n",
    "                'The number of image ({}) and annotations ({}) sequences ' \\\n",
    "                'in group {} should be the same.'.format(\n",
    "                    len(img_list2), len(ann_list2), i)\n",
    "            for j, (img_list3, ann_list3) in enumerate(zip(img_list2,\n",
    "                                                           ann_list2)):\n",
    "                assert len(img_list3) == len(ann_list3), \\\n",
    "                    'The number of image ({}) and annotations ({}) in ' \\\n",
    "                    'sequence {} of group {} should be the same.'.format(\n",
    "                        len(img_list3), len(ann_list3), j, i)\n",
    "                    \n",
    "    def view(self):\n",
    "        r\"\"\"\n",
    "        Visualize dataset.\n",
    "        \"\"\"\n",
    "        if 'ipykernel' in sys.modules:\n",
    "            self._notebook_view()\n",
    "        else:\n",
    "            print(\"hello\")\n",
    "\n",
    "    def _notebook_view(self):\n",
    "        def _view_image(group_index, sequence_index, index):\n",
    "            img = Image.open(self.img_list[group_index][sequence_index][index])\n",
    "            ann = self.ann_list[group_index][sequence_index][index]\n",
    "            display_image(img, ann)\n",
    "\n",
    "        group_slider = widgets.IntSlider(\n",
    "            value=0,\n",
    "            min=0,\n",
    "            max=len(self.img_list) - 1,\n",
    "            step=1,\n",
    "            description='group:\\t',\n",
    "            disabled=False,\n",
    "            continuous_update=False,\n",
    "            orientation='horizontal',\n",
    "            readout=True,\n",
    "            readout_format='i',\n",
    "            slider_color='white'\n",
    "        )\n",
    "\n",
    "        sequence_slider = widgets.IntSlider(\n",
    "            value=0,\n",
    "            min=0,\n",
    "            max=len(self.img_list[0]) - 1,\n",
    "            step=1,\n",
    "            description='sequence: \\t',\n",
    "            disabled=False,\n",
    "            continuous_update=False,\n",
    "            orientation='horizontal',\n",
    "            readout=True,\n",
    "            readout_format='i',\n",
    "            slider_color='white'\n",
    "        )\n",
    "\n",
    "        slider = widgets.IntSlider(\n",
    "            value=0,\n",
    "            min=0,\n",
    "            max=len(self.img_list[0][0]) - 1,\n",
    "            step=1,\n",
    "            description='image: \\t',\n",
    "            disabled=False,\n",
    "            continuous_update=False,\n",
    "            orientation='horizontal',\n",
    "            readout=True,\n",
    "            readout_format='i',\n",
    "            slider_color='white'\n",
    "        )\n",
    "\n",
    "        def update_sequence_range(*args):\n",
    "            i = group_slider.value\n",
    "            j = sequence_slider.value\n",
    "            slider.max = len(self.img_list[i][j]) - 1\n",
    "            slider.value = 0\n",
    "            \n",
    "        sequence_slider.observe(update_sequence_range)\n",
    "            \n",
    "        def update_group_range(*args):\n",
    "            i = group_slider.value\n",
    "            j = sequence_slider.value\n",
    "            sequence_slider.max = len(self.img_list[i]) - 1\n",
    "            sequence_slider.value = 0\n",
    "            slider.max = len(self.img_list[i][j]) - 1\n",
    "            slider.value = 0\n",
    "                \n",
    "        group_slider.observe(update_group_range)\n",
    "\n",
    "        interact(_view_image,\n",
    "                 group_index=group_slider,\n",
    "                 sequence_index=sequence_slider,\n",
    "                 index=slider)"
   ]
  },
  {
   "cell_type": "code",
   "execution_count": null,
   "metadata": {
    "collapsed": true,
    "deletable": true,
    "editable": true
   },
   "outputs": [],
   "source": [
    "import matplotlib.patches as patches\n",
    "\n",
    "def display_image(img, ann, figure_size=(32, 24), color='red', fill=False,\n",
    "                  alpha=1.0):\n",
    "    r\"\"\"\n",
    "    Display image with overlaid bounding box.\n",
    "\n",
    "    Parameters\n",
    "    ----------\n",
    "    img : np.ndarray\n",
    "        ``(height, width, 3)`` array containing the image to be displayed.\n",
    "    ann : np.ndarray\n",
    "        ``(4, )`` array containing the top left vertex and the size of the\n",
    "        bounding box to be displayed.\n",
    "    figure_size : tuple(int), optional\n",
    "        ``(2,)`` tuple defining the figure size.\n",
    "    color : 'str'\n",
    "\n",
    "    fill : bool\n",
    "\n",
    "    alpha: float\n",
    "\n",
    "    \"\"\"\n",
    "    fig, ax = plt.subplots(1, figsize=(16, 9))\n",
    "    ax.set_axis_off()\n",
    "\n",
    "    ax.imshow(img)\n",
    "\n",
    "    box = patches.Rectangle((ann[0], ann[1]), ann[2], ann[3],\n",
    "                            color=color, fill=fill, alpha=alpha)\n",
    "    ax.add_patch(box)\n",
    "    plt.show()"
   ]
  },
  {
   "cell_type": "markdown",
   "metadata": {
    "deletable": true,
    "editable": true
   },
   "source": [
    "Use dataset class:"
   ]
  },
  {
   "cell_type": "code",
   "execution_count": null,
   "metadata": {
    "collapsed": true,
    "deletable": true,
    "editable": true
   },
   "outputs": [],
   "source": [
    "dataset = Alov300('/data1/joan/eurus/data/alov300/')"
   ]
  },
  {
   "cell_type": "markdown",
   "metadata": {
    "deletable": true,
    "editable": true
   },
   "source": [
    "Use widget:"
   ]
  },
  {
   "cell_type": "code",
   "execution_count": null,
   "metadata": {
    "collapsed": false,
    "deletable": true,
    "editable": true
   },
   "outputs": [],
   "source": [
    "dataset.view()"
   ]
  },
  {
   "cell_type": "markdown",
   "metadata": {
    "collapsed": false,
    "deletable": true,
    "editable": true
   },
   "source": [
    "## Alov300 Eurus Class"
   ]
  },
  {
   "cell_type": "code",
   "execution_count": null,
   "metadata": {
    "collapsed": false,
    "deletable": true,
    "editable": true
   },
   "outputs": [],
   "source": [
    "from eurus.track.pytorch.model.dataset import Alov300\n",
    "from eurus.track.pytorch.model.dataset.utils import display_image, display_search_image"
   ]
  },
  {
   "cell_type": "markdown",
   "metadata": {
    "deletable": true,
    "editable": true
   },
   "source": [
    "Create dataset instance:"
   ]
  },
  {
   "cell_type": "code",
   "execution_count": null,
   "metadata": {
    "collapsed": false,
    "deletable": true,
    "editable": true
   },
   "outputs": [],
   "source": [
    "dataset = Alov300('/data1/joan/eurus/data/alov300/')"
   ]
  },
  {
   "cell_type": "code",
   "execution_count": null,
   "metadata": {
    "collapsed": false,
    "deletable": true,
    "editable": true
   },
   "outputs": [],
   "source": [
    "print('The alov300 dataset contains:', len(dataset), 'sequences')"
   ]
  },
  {
   "cell_type": "code",
   "execution_count": null,
   "metadata": {
    "collapsed": false
   },
   "outputs": [],
   "source": [
    "print(dataset)"
   ]
  },
  {
   "cell_type": "code",
   "execution_count": null,
   "metadata": {
    "collapsed": false
   },
   "outputs": [],
   "source": [
    "dataset.view_sequence_length_histogram()"
   ]
  },
  {
   "cell_type": "markdown",
   "metadata": {
    "deletable": true,
    "editable": true
   },
   "source": [
    "View original unprocessed dataset:"
   ]
  },
  {
   "cell_type": "code",
   "execution_count": null,
   "metadata": {
    "collapsed": false,
    "deletable": true,
    "editable": true
   },
   "outputs": [],
   "source": [
    "dataset.view_original()"
   ]
  },
  {
   "cell_type": "markdown",
   "metadata": {
    "deletable": true,
    "editable": true
   },
   "source": [
    "Make sure index work as expected:"
   ]
  },
  {
   "cell_type": "code",
   "execution_count": null,
   "metadata": {
    "collapsed": true,
    "deletable": true,
    "editable": true
   },
   "outputs": [],
   "source": [
    "gen = dataset[304]"
   ]
  },
  {
   "cell_type": "code",
   "execution_count": null,
   "metadata": {
    "collapsed": false,
    "deletable": true,
    "editable": true
   },
   "outputs": [],
   "source": [
    "context, search, context_box, search_box, prior_search_box = next(gen)"
   ]
  },
  {
   "cell_type": "code",
   "execution_count": null,
   "metadata": {
    "collapsed": false,
    "deletable": true,
    "editable": true
   },
   "outputs": [],
   "source": [
    "display_image(context, context_box)"
   ]
  },
  {
   "cell_type": "code",
   "execution_count": null,
   "metadata": {
    "collapsed": false,
    "deletable": true,
    "editable": true,
    "scrolled": true
   },
   "outputs": [],
   "source": [
    "display_search_image(search, search_box, prior_search_box)"
   ]
  }
 ],
 "metadata": {
  "kernelspec": {
   "display_name": "Python 3",
   "language": "python",
   "name": "python3"
  },
  "language_info": {
   "codemirror_mode": {
    "name": "ipython",
    "version": 3
   },
   "file_extension": ".py",
   "mimetype": "text/x-python",
   "name": "python",
   "nbconvert_exporter": "python",
   "pygments_lexer": "ipython3",
   "version": "3.6.0"
  }
 },
 "nbformat": 4,
 "nbformat_minor": 2
}
