{
 "cells": [
  {
   "cell_type": "code",
   "execution_count": null,
   "metadata": {
    "collapsed": true,
    "deletable": true,
    "editable": true
   },
   "outputs": [],
   "source": [
    "import torch\n",
    "import torch.nn as nn\n",
    "import torch.nn.functional as F\n",
    "from torch.nn.parameter import Parameter\n",
    "from torch.autograd import Variable\n",
    "from torchvision import transforms"
   ]
  },
  {
   "cell_type": "markdown",
   "metadata": {
    "deletable": true,
    "editable": true
   },
   "source": [
    "Prototype model:"
   ]
  },
  {
   "cell_type": "code",
   "execution_count": null,
   "metadata": {
    "collapsed": true,
    "deletable": true,
    "editable": true
   },
   "outputs": [],
   "source": [
    "class HudlNet(nn.Module):\n",
    "    r\"\"\"\n",
    "    \"\"\"\n",
    "    def __init__(self):\n",
    "        super(HudlNet, self).__init__()\n",
    "        \n",
    "        self.conv1 = nn.Conv2d(3, 16, 3)\n",
    "        self.bn11 = nn.BatchNorm2d(16)\n",
    "        self.bn12 = nn.BatchNorm2d(16)\n",
    "\n",
    "        self.conv2 = nn.Conv2d(16, 16, 3)\n",
    "        self.bn21 = nn.BatchNorm2d(16)\n",
    "        self.bn22 = nn.BatchNorm2d(16)\n",
    "\n",
    "        self.conv3 = nn.Conv2d(16, 16, 3)\n",
    "        self.bn31 = nn.BatchNorm2d(16)\n",
    "        self.bn32 = nn.BatchNorm2d(16)\n",
    "\n",
    "        self.conv4 = nn.Conv2d(16, 16, 3)\n",
    "        self.bn41 = nn.BatchNorm2d(16)\n",
    "        self.bn42 = nn.BatchNorm2d(16)\n",
    "\n",
    "        self.rnn1 = nn.LSTMCell(576, 256)\n",
    "        self.rnn2 = nn.LSTMCell(3136, 256)\n",
    "\n",
    "        self.fc1 = nn.Linear(512, 256)\n",
    "        self.bn1 = nn.BatchNorm1d(256)\n",
    "\n",
    "        self.fc2 = nn.Linear(256, 128)\n",
    "        self.bn2 = nn.BatchNorm1d(128)\n",
    "\n",
    "        self.fc3 = nn.Linear(128, 4)\n",
    "        self.fc4 = nn.Linear(128, 65536)\n",
    "        \n",
    "    def forward(self, x1, x2, s1, s2):\n",
    "        r\"\"\"\n",
    "        \"\"\"\n",
    "        x1 = F.max_pool2d(F.relu(self.bn11(self.conv1(x1))), 2)\n",
    "        x1 = F.max_pool2d(F.relu(self.bn21(self.conv2(x1))), 2)\n",
    "        x1 = F.max_pool2d(F.relu(self.bn31(self.conv3(x1))), 2)\n",
    "        x1 = F.max_pool2d(F.relu(self.bn41(self.conv4(x1))), 2)\n",
    "        x1 = x1.view(-1, 16 * 6 * 6)\n",
    "\n",
    "        h1, c1 = self.rnn1(x1, s1)\n",
    "\n",
    "        x2 = F.max_pool2d(F.relu(self.bn12(self.conv1(x2))), 2)\n",
    "        x2 = F.max_pool2d(F.relu(self.bn22(self.conv2(x2))), 2)\n",
    "        x2 = F.max_pool2d(F.relu(self.bn32(self.conv3(x2))), 2)\n",
    "        x2 = F.max_pool2d(F.relu(self.bn42(self.conv4(x2))), 2)\n",
    "        x2 = x2.view(-1, 16 * 14 * 14)\n",
    "\n",
    "        h2, c2 = self.rnn2(x2, s2)\n",
    "\n",
    "        x = torch.cat((h1, h2), 1)\n",
    "        x = F.relu(self.bn1(self.fc1(x)))\n",
    "        x = F.relu(self.bn2(self.fc2(x)))\n",
    "\n",
    "        y1 = self.fc3(x)\n",
    "\n",
    "        y2 = self.fc4(x)\n",
    "        y2 = y2.view(-1, 1, 256, 256)\n",
    "        \n",
    "        return  y1, y2, (h1, c1), (h2, c2)"
   ]
  },
  {
   "cell_type": "markdown",
   "metadata": {
    "deletable": true,
    "editable": true
   },
   "source": [
    "Mock input data:"
   ]
  },
  {
   "cell_type": "code",
   "execution_count": null,
   "metadata": {
    "collapsed": false,
    "deletable": true,
    "editable": true
   },
   "outputs": [],
   "source": [
    "batch_size = 4\n",
    "sequence_length = 5\n",
    "height = 128\n",
    "width = 128\n",
    "\n",
    "input1 = Variable(torch.randn([batch_size, 3, height, width]), volatile=True)\n",
    "input2 = Variable(torch.randn([batch_size, 3, 2*height, 2*width]), volatile=True)\n",
    "\n",
    "h1 = Variable(torch.zeros(batch_size, 256), volatile=True)\n",
    "c1 = Variable(torch.zeros(batch_size, 256), volatile=True)\n",
    "\n",
    "h2 = Variable(torch.zeros(batch_size, 256), volatile=True)\n",
    "c2 = Variable(torch.zeros(batch_size, 256), volatile=True)"
   ]
  },
  {
   "cell_type": "markdown",
   "metadata": {
    "deletable": true,
    "editable": true
   },
   "source": [
    "Move it to the `gpu`:"
   ]
  },
  {
   "cell_type": "code",
   "execution_count": null,
   "metadata": {
    "collapsed": false,
    "deletable": true,
    "editable": true
   },
   "outputs": [],
   "source": [
    "input1 = input1.cuda()\n",
    "input2 = input2.cuda()\n",
    "\n",
    "h1 = h1.cuda()\n",
    "c1 = c1.cuda()\n",
    "\n",
    "h2 = h2.cuda()\n",
    "c2 = c2.cuda();"
   ]
  },
  {
   "cell_type": "markdown",
   "metadata": {
    "deletable": true,
    "editable": true
   },
   "source": [
    "Create model instance and set it to inference mode:"
   ]
  },
  {
   "cell_type": "code",
   "execution_count": null,
   "metadata": {
    "collapsed": false,
    "deletable": true,
    "editable": true
   },
   "outputs": [],
   "source": [
    "model = HudlNet()\n",
    "\n",
    "model = model.eval()"
   ]
  },
  {
   "cell_type": "markdown",
   "metadata": {
    "deletable": true,
    "editable": true
   },
   "source": [
    "Move it to the `gpu`:"
   ]
  },
  {
   "cell_type": "code",
   "execution_count": null,
   "metadata": {
    "collapsed": false,
    "deletable": true,
    "editable": true
   },
   "outputs": [],
   "source": [
    "model = model.cuda()"
   ]
  },
  {
   "cell_type": "markdown",
   "metadata": {
    "deletable": true,
    "editable": true
   },
   "source": [
    "Forward loop:"
   ]
  },
  {
   "cell_type": "code",
   "execution_count": null,
   "metadata": {
    "collapsed": false,
    "deletable": true,
    "editable": true
   },
   "outputs": [],
   "source": [
    "%%timeit\n",
    "\n",
    "y1, y2, s1, s1 = model(input1, input2, (h1, c1), (h2, c2))"
   ]
  }
 ],
 "metadata": {
  "kernelspec": {
   "display_name": "Python 3",
   "language": "python",
   "name": "python3"
  },
  "language_info": {
   "codemirror_mode": {
    "name": "ipython",
    "version": 3
   },
   "file_extension": ".py",
   "mimetype": "text/x-python",
   "name": "python",
   "nbconvert_exporter": "python",
   "pygments_lexer": "ipython3",
   "version": "3.6.0"
  }
 },
 "nbformat": 4,
 "nbformat_minor": 2
}
