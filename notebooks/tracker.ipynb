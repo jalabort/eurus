{
 "cells": [
  {
   "cell_type": "code",
   "execution_count": null,
   "metadata": {
    "collapsed": false,
    "deletable": true,
    "editable": true
   },
   "outputs": [],
   "source": [
    "%matplotlib inline\n",
    "\n",
    "import numpy as np\n",
    "\n",
    "from PIL import Image\n",
    "\n",
    "import torch\n",
    "import torch.nn as nn\n",
    "import torch.optim as optim\n",
    "from torch.autograd import Variable\n",
    "from torch.utils.data import DataLoader\n",
    "\n",
    "from torchvision import transforms\n",
    "\n",
    "from eurus.utils import Box\n",
    "from eurus.track.pytorch import ForwardTracker\n",
    "from eurus.track.pytorch.train import Alov300, Uav123, Vot2016"
   ]
  },
  {
   "cell_type": "markdown",
   "metadata": {
    "deletable": true,
    "editable": true
   },
   "source": [
    "## Data"
   ]
  },
  {
   "cell_type": "code",
   "execution_count": null,
   "metadata": {
    "collapsed": true,
    "deletable": true,
    "editable": true
   },
   "outputs": [],
   "source": [
    "dataset = Vot2016(\n",
    "    '/data1/joan/eurus/data/vot2016/', \n",
    "    transform=transforms.ToTensor()\n",
    ")"
   ]
  },
  {
   "cell_type": "code",
   "execution_count": null,
   "metadata": {
    "collapsed": false,
    "deletable": true,
    "editable": true
   },
   "outputs": [],
   "source": [
    "print(dataset)"
   ]
  },
  {
   "cell_type": "code",
   "execution_count": null,
   "metadata": {
    "collapsed": false,
    "deletable": true,
    "editable": true
   },
   "outputs": [],
   "source": [
    "dataset.view_original()"
   ]
  },
  {
   "cell_type": "markdown",
   "metadata": {
    "deletable": true,
    "editable": true
   },
   "source": [
    "## Tracker"
   ]
  },
  {
   "cell_type": "code",
   "execution_count": null,
   "metadata": {
    "collapsed": false,
    "deletable": true,
    "editable": true
   },
   "outputs": [],
   "source": [
    "seq_ind = 1\n",
    "img_ind = 0\n",
    "\n",
    "img_sequence = [Image.open(img_path) for img_path in dataset.img_list[seq_ind]]\n",
    "ann_sequence = dataset.ann_list[seq_ind]\n",
    "\n",
    "tracker = ForwardTracker('/data1/joan/eurus/model3.pth')\n",
    "\n",
    "image = img_sequence[img_ind]\n",
    "initial_box = Box(*ann_sequence[img_ind], timestamp=0)\n",
    "\n",
    "tracker.initialize(image, initial_box)"
   ]
  },
  {
   "cell_type": "markdown",
   "metadata": {
    "deletable": true,
    "editable": true
   },
   "source": [
    "Make sure the `context` was correctly set up:"
   ]
  },
  {
   "cell_type": "code",
   "execution_count": null,
   "metadata": {
    "collapsed": false,
    "deletable": true,
    "editable": true
   },
   "outputs": [],
   "source": [
    "transforms.ToPILImage()(tracker.context.squeeze().data.cpu())"
   ]
  },
  {
   "cell_type": "markdown",
   "metadata": {
    "deletable": true,
    "editable": true
   },
   "source": [
    "Tracking loop:"
   ]
  },
  {
   "cell_type": "code",
   "execution_count": null,
   "metadata": {
    "collapsed": false,
    "deletable": true,
    "editable": true
   },
   "outputs": [],
   "source": [
    "boxes = [np.array([initial_box.x + initial_box.w / 2, \n",
    "                   initial_box.y + initial_box.h / 2])]\n",
    "contexts = []\n",
    "responses = []\n",
    "\n",
    "for img in img_sequence[:]: \n",
    "    contexts.append(transforms.ToPILImage()(tracker.context.squeeze().data.cpu()))\n",
    "    box, response = tracker.track(img, 0)\n",
    "    boxes.append(box)\n",
    "    responses.append(response)"
   ]
  },
  {
   "cell_type": "markdown",
   "metadata": {
    "deletable": true,
    "editable": true
   },
   "source": [
    "Check the current context of the tracker:"
   ]
  },
  {
   "cell_type": "code",
   "execution_count": null,
   "metadata": {
    "collapsed": false,
    "deletable": true,
    "editable": true
   },
   "outputs": [],
   "source": [
    "transforms.ToPILImage()(tracker.context.squeeze().data.cpu())"
   ]
  },
  {
   "cell_type": "markdown",
   "metadata": {
    "deletable": true,
    "editable": true
   },
   "source": [
    "Define visualization functions and display the tracking results:"
   ]
  },
  {
   "cell_type": "code",
   "execution_count": null,
   "metadata": {
    "collapsed": false,
    "deletable": true,
    "editable": true
   },
   "outputs": [],
   "source": [
    "import matplotlib.pyplot as plt\n",
    "from ipywidgets import interact\n",
    "import ipywidgets as widgets\n",
    "\n",
    "\n",
    "def visualize_datum(img, box=None):\n",
    "    fig, ax = plt.subplots(1, figsize=(10, 10))\n",
    "    ax.set_axis_off()\n",
    "    if len(np.array(img).shape) == 2:\n",
    "        cmap = 'jet'\n",
    "    else:\n",
    "        cmap = None   \n",
    "    ax.imshow(img, cmap=cmap)\n",
    "    if box is not None:\n",
    "        ax.scatter(box[0], box[1], c='r', marker='+')\n",
    "    plt.show()\n",
    "    \n",
    "\n",
    "def visualize_data(img_sequence, box_sequence=None):\n",
    "    def _view_data(index):\n",
    "        if box_sequence is None:\n",
    "            boxes = [None] * len(img_sequence)\n",
    "        else:\n",
    "            boxes = box_sequence\n",
    "        visualize_datum(img_sequence[index], boxes[index])\n",
    "\n",
    "    slider = widgets.IntSlider(\n",
    "        value=0,\n",
    "        min=0,\n",
    "        max=len(img_sequence)-1,\n",
    "        step=1,\n",
    "        description='index:',\n",
    "        disabled=False,\n",
    "        continuous_update=False,\n",
    "        orientation='horizontal',\n",
    "        readout=True,\n",
    "        readout_format='i',\n",
    "        slider_color='white'\n",
    "    )\n",
    "\n",
    "    interact(_view_data, index=slider)"
   ]
  },
  {
   "cell_type": "code",
   "execution_count": null,
   "metadata": {
    "collapsed": false,
    "deletable": true,
    "editable": true
   },
   "outputs": [],
   "source": [
    "visualize_data(img_sequence, boxes)"
   ]
  },
  {
   "cell_type": "markdown",
   "metadata": {
    "deletable": true,
    "editable": true
   },
   "source": [
    "Visualize contexts:"
   ]
  },
  {
   "cell_type": "code",
   "execution_count": null,
   "metadata": {
    "collapsed": false,
    "deletable": true,
    "editable": true
   },
   "outputs": [],
   "source": [
    "visualize_data(contexts)"
   ]
  },
  {
   "cell_type": "markdown",
   "metadata": {
    "deletable": true,
    "editable": true
   },
   "source": [
    "Visualize responses:"
   ]
  },
  {
   "cell_type": "code",
   "execution_count": null,
   "metadata": {
    "collapsed": false,
    "deletable": true,
    "editable": true
   },
   "outputs": [],
   "source": [
    "score_maps = [r for r in responses]"
   ]
  },
  {
   "cell_type": "code",
   "execution_count": null,
   "metadata": {
    "collapsed": false,
    "deletable": true,
    "editable": true
   },
   "outputs": [],
   "source": [
    "visualize_data(score_maps)"
   ]
  }
 ],
 "metadata": {
  "kernelspec": {
   "display_name": "Python 3",
   "language": "python",
   "name": "python3"
  },
  "language_info": {
   "codemirror_mode": {
    "name": "ipython",
    "version": 3
   },
   "file_extension": ".py",
   "mimetype": "text/x-python",
   "name": "python",
   "nbconvert_exporter": "python",
   "pygments_lexer": "ipython3",
   "version": "3.6.0"
  }
 },
 "nbformat": 4,
 "nbformat_minor": 2
}
